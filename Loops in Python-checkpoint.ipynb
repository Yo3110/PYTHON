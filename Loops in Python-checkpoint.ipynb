{
 "cells": [
  {
   "cell_type": "markdown",
   "id": "183dbc49",
   "metadata": {},
   "source": [
    "## Loops In Python"
   ]
  },
  {
   "cell_type": "markdown",
   "id": "251b1be7",
   "metadata": {},
   "source": [
    "## IF ELSE CONDITION"
   ]
  },
  {
   "cell_type": "markdown",
   "id": "f5307106",
   "metadata": {},
   "source": [
    "IF TRUE\n",
    "   CONSIDER TRUE/THIS PART\n",
    "IF FALSE\n",
    "   CONDIDER FALSE/THIS PART"
   ]
  },
  {
   "cell_type": "code",
   "execution_count": 3,
   "id": "66c9511d",
   "metadata": {},
   "outputs": [
    {
     "name": "stdout",
     "output_type": "stream",
     "text": [
      "b is grater than a\n"
     ]
    }
   ],
   "source": [
    "a=320\n",
    "b=450\n",
    "if a>b:\n",
    "    print(\"a is grater than b\")\n",
    "else:\n",
    "    print(\"b is grater than a\")"
   ]
  },
  {
   "cell_type": "code",
   "execution_count": 5,
   "id": "ccc4c682",
   "metadata": {},
   "outputs": [
    {
     "name": "stdout",
     "output_type": "stream",
     "text": [
      "a is grater than b\n"
     ]
    }
   ],
   "source": [
    "a=550\n",
    "b=450\n",
    "if a>b:\n",
    "    print(\"a is grater than b\")\n",
    "else:\n",
    "    print(\"b is grater than a\")"
   ]
  },
  {
   "cell_type": "code",
   "execution_count": 6,
   "id": "d8daa5bc",
   "metadata": {},
   "outputs": [
    {
     "name": "stdout",
     "output_type": "stream",
     "text": [
      "true part\n"
     ]
    }
   ],
   "source": [
    "a=550\n",
    "b=450\n",
    "if a>b:\n",
    "    print(\"true part\")\n",
    "else:\n",
    "    print(\"false part\")"
   ]
  },
  {
   "cell_type": "markdown",
   "id": "d06cb0a4",
   "metadata": {},
   "source": [
    "## Nasted if"
   ]
  },
  {
   "cell_type": "code",
   "execution_count": 10,
   "id": "af593597",
   "metadata": {},
   "outputs": [
    {
     "name": "stdout",
     "output_type": "stream",
     "text": [
      "condition1\n",
      "nothing\n"
     ]
    }
   ],
   "source": [
    "a=450\n",
    "b=320\n",
    "if a>b:\n",
    "    print(\"condition1\")\n",
    "    if a<b:\n",
    "        print(\"something else\")\n",
    "    else:\n",
    "        print(\"nothing\")\n",
    "else:\n",
    "    print(\"condition2\")"
   ]
  },
  {
   "cell_type": "code",
   "execution_count": 11,
   "id": "665af176",
   "metadata": {},
   "outputs": [
    {
     "name": "stdout",
     "output_type": "stream",
     "text": [
      "condition2\n"
     ]
    }
   ],
   "source": [
    "a=450\n",
    "b=320\n",
    "if a<b:\n",
    "    print(\"condition1\")\n",
    "    if a<b:\n",
    "        print(\"something else\")\n",
    "    else:\n",
    "        print(\"nothing\")\n",
    "else:\n",
    "    print(\"condition2\")"
   ]
  },
  {
   "cell_type": "code",
   "execution_count": 13,
   "id": "4e4f5150",
   "metadata": {},
   "outputs": [
    {
     "name": "stdout",
     "output_type": "stream",
     "text": [
      "condition1\n",
      "something else\n"
     ]
    }
   ],
   "source": [
    "a=450\n",
    "b=450\n",
    "if a<=b:\n",
    "    print(\"condition1\")\n",
    "    if a==b:\n",
    "        print(\"something else\")\n",
    "    else:\n",
    "        print(\"nothing\")\n",
    "else:\n",
    "    print(\"condition2\")"
   ]
  },
  {
   "cell_type": "markdown",
   "id": "06176ad8",
   "metadata": {},
   "source": [
    "## EL IF"
   ]
  },
  {
   "cell_type": "code",
   "execution_count": 14,
   "id": "c0604d3e",
   "metadata": {},
   "outputs": [
    {
     "name": "stdout",
     "output_type": "stream",
     "text": [
      " a is greater than b\n"
     ]
    }
   ],
   "source": [
    "a=13\n",
    "b=12\n",
    "if a>b:\n",
    "    print(\" a is greater than b\")\n",
    "elif a==b:\n",
    "    print(\"a is equal to b\")\n",
    "elif a<b:\n",
    "    print(\"a is less than b\")\n",
    "else:\n",
    "    print(\"no condition is satisfied\")"
   ]
  },
  {
   "cell_type": "code",
   "execution_count": 15,
   "id": "e87597b0",
   "metadata": {},
   "outputs": [
    {
     "name": "stdout",
     "output_type": "stream",
     "text": [
      "a is less than b\n"
     ]
    }
   ],
   "source": [
    "a=12\n",
    "b=13\n",
    "if a>b:\n",
    "    print(\" a is greater than b\")\n",
    "elif a==b:\n",
    "    print(\"a is equal to b\")\n",
    "elif a<b:\n",
    "    print(\"a is less than b\")\n",
    "else:\n",
    "    print(\"no condition is satisfied\")"
   ]
  },
  {
   "cell_type": "markdown",
   "id": "1e1150fe",
   "metadata": {},
   "source": [
    "Q. A STUDENT GOT 62 IN PHYSICS,54 IN MATH AND 90 IN CHEMISTRY , IF THE PERCENTAGE OF THESTUDENT IS >70 PRINT 1ST DIVISION, IF PERCENT IS IN BETWEEN 60-70 PRINT 2ND DIVISION, IF PERCENT 40-60 PRINT 3RD DIVISION OTHERWISE FAIL."
   ]
  },
  {
   "cell_type": "code",
   "execution_count": 35,
   "id": "4414be01",
   "metadata": {},
   "outputs": [],
   "source": [
    "physics_score = 62\n",
    "math_score = 54\n",
    "chemistry_score = 90"
   ]
  },
  {
   "cell_type": "code",
   "execution_count": 38,
   "id": "453e9d5f",
   "metadata": {},
   "outputs": [],
   "source": [
    "total_marks = physics_score + math_score + chemistry_score\n",
    "percentage = (total_marks / 300) * 100"
   ]
  },
  {
   "cell_type": "markdown",
   "id": "f92cf57f",
   "metadata": {},
   "source": [
    "percentage = (total_marks / (3 * 100)) * 100"
   ]
  },
  {
   "cell_type": "code",
   "execution_count": 39,
   "id": "790aa428",
   "metadata": {},
   "outputs": [],
   "source": [
    "if percentage > 70:\n",
    "    division = \"1st Division\"\n",
    "elif 60 <= percentage <= 70:\n",
    "    division = \"2nd Division\"\n",
    "elif 40 <= percentage < 60:\n",
    "    division = \"3rd Division\"\n",
    "else:\n",
    "    division = \"Fail\""
   ]
  },
  {
   "cell_type": "code",
   "execution_count": 40,
   "id": "cbc84cef",
   "metadata": {},
   "outputs": [
    {
     "name": "stdout",
     "output_type": "stream",
     "text": [
      "Percentage: 68.66666666666667%\n",
      "Division: 2nd Division\n"
     ]
    }
   ],
   "source": [
    "print(f\"Percentage: {percentage}%\")\n",
    "print(f\"Division: {division}\")"
   ]
  },
  {
   "cell_type": "markdown",
   "id": "1db514f3",
   "metadata": {},
   "source": [
    "## WHILE LOOPING"
   ]
  },
  {
   "cell_type": "code",
   "execution_count": 41,
   "id": "95e873cb",
   "metadata": {},
   "outputs": [
    {
     "name": "stdout",
     "output_type": "stream",
     "text": [
      "Hello World\n"
     ]
    }
   ],
   "source": [
    "print (\"Hello World\")"
   ]
  },
  {
   "cell_type": "code",
   "execution_count": 42,
   "id": "262ac3e7",
   "metadata": {},
   "outputs": [
    {
     "name": "stdout",
     "output_type": "stream",
     "text": [
      "Hello World\n",
      "Hello World\n",
      "Hello World\n",
      "Hello World\n",
      "Hello World\n",
      "Hello World\n",
      "Hello World\n",
      "Hello World\n",
      "Hello World\n",
      "Hello World\n"
     ]
    }
   ],
   "source": [
    "c=1\n",
    "while c<=10:\n",
    "    print(\"Hello World\")\n",
    "    c=c+1"
   ]
  },
  {
   "cell_type": "code",
   "execution_count": 43,
   "id": "49e11906",
   "metadata": {},
   "outputs": [
    {
     "name": "stdout",
     "output_type": "stream",
     "text": [
      "Hello World\n",
      "Hello World\n",
      "Hello World\n",
      "Hello World\n",
      "Hello World\n",
      "Hello World\n",
      "Hello World\n",
      "Hello World\n",
      "Hello World\n",
      "Hello World\n"
     ]
    }
   ],
   "source": [
    "c=10\n",
    "while c>=1:\n",
    "    print(\"Hello World\")\n",
    "    c=c-1"
   ]
  },
  {
   "cell_type": "markdown",
   "id": "a0b3c61e",
   "metadata": {},
   "source": [
    "## FOR LOOP\n"
   ]
  },
  {
   "cell_type": "code",
   "execution_count": 44,
   "id": "ddf64fe5",
   "metadata": {},
   "outputs": [
    {
     "name": "stdout",
     "output_type": "stream",
     "text": [
      "[2, 4, 6, 8]\n"
     ]
    }
   ],
   "source": [
    "x=[2,4,6,8]\n",
    "print (x)"
   ]
  },
  {
   "cell_type": "code",
   "execution_count": 45,
   "id": "06cc421b",
   "metadata": {},
   "outputs": [
    {
     "name": "stdout",
     "output_type": "stream",
     "text": [
      "2\n",
      "4\n",
      "6\n",
      "8\n"
     ]
    }
   ],
   "source": [
    "for i in x:\n",
    "    print (i)"
   ]
  },
  {
   "cell_type": "code",
   "execution_count": 46,
   "id": "060bb3d3",
   "metadata": {},
   "outputs": [
    {
     "name": "stdout",
     "output_type": "stream",
     "text": [
      "Y\n",
      "O\n",
      "G\n",
      "E\n",
      "S\n",
      "H\n"
     ]
    }
   ],
   "source": [
    "x=\"YOGESH\"\n",
    "for i in x:\n",
    "    print(i)"
   ]
  },
  {
   "cell_type": "code",
   "execution_count": 47,
   "id": "2e2186bc",
   "metadata": {},
   "outputs": [
    {
     "name": "stdout",
     "output_type": "stream",
     "text": [
      "Yogesh\n",
      "Ishu\n",
      "seema\n"
     ]
    }
   ],
   "source": [
    "x=('Yogesh', 'Ishu', 'seema')\n",
    "for i in x:\n",
    "    print(i)"
   ]
  },
  {
   "cell_type": "code",
   "execution_count": null,
   "id": "044f035b",
   "metadata": {},
   "outputs": [],
   "source": []
  }
 ],
 "metadata": {
  "kernelspec": {
   "display_name": "Python 3 (ipykernel)",
   "language": "python",
   "name": "python3"
  },
  "language_info": {
   "codemirror_mode": {
    "name": "ipython",
    "version": 3
   },
   "file_extension": ".py",
   "mimetype": "text/x-python",
   "name": "python",
   "nbconvert_exporter": "python",
   "pygments_lexer": "ipython3",
   "version": "3.11.4"
  }
 },
 "nbformat": 4,
 "nbformat_minor": 5
}
